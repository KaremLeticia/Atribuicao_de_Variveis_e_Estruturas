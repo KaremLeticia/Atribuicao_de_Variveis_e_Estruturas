{
  "cells": [
    {
      "cell_type": "markdown",
      "metadata": {
        "id": "view-in-github",
        "colab_type": "text"
      },
      "source": [
        "<a href=\"https://colab.research.google.com/github/KaremLeticia/Auth/blob/main/Atribui%C3%A7%C3%A3o_de_Variveis_e_Estruturas.ipynb\" target=\"_parent\"><img src=\"https://colab.research.google.com/assets/colab-badge.svg\" alt=\"Open In Colab\"/></a>"
      ]
    },
    {
      "cell_type": "markdown",
      "id": "01ddbbc7",
      "metadata": {
        "id": "01ddbbc7"
      },
      "source": [
        "# Para todas as questões abaixo comente o que você está fazendo no código"
      ]
    },
    {
      "cell_type": "markdown",
      "id": "d828cc4f",
      "metadata": {
        "id": "d828cc4f"
      },
      "source": [
        "Questão 1: Crie um conversor de real em dólares. Imprima o resultado usando a função format."
      ]
    },
    {
      "cell_type": "code",
      "execution_count": null,
      "id": "b415317b",
      "metadata": {
        "id": "b415317b",
        "colab": {
          "base_uri": "https://localhost:8080/"
        },
        "outputId": "e0cfdeb7-9444-4f5c-a110-f53cf3d3e119"
      },
      "outputs": [
        {
          "output_type": "stream",
          "name": "stdout",
          "text": [
            "digite quanto está custando o dolar, atualmente: 5\n",
            "Quantos reais voce quer converter? 80\n",
            "o seu real convertido em dolar será de U$ 16.0 dolares\n"
          ]
        }
      ],
      "source": [
        "# RESPOSTA AQUI\n",
        "valor_do_dolar = float (input(f\"digite quanto está custando o dolar, atualmente: \"))\n",
        "valor_em_reais = float (input(f\"Quantos reais voce quer converter? \"))\n",
        "\n",
        "\n",
        "converter = valor_em_reais/valor_do_dolar\n",
        "\n",
        "print (f\"o seu real convertido em dolar será de U$ {converter}\" + \" dolares\")"
      ]
    },
    {
      "cell_type": "markdown",
      "id": "c2e76171",
      "metadata": {
        "id": "c2e76171"
      },
      "source": [
        "Questão 2:Crie um sistema que imprima o valor que você vai pagar e o desconto que você teria em determinado item do supermercado. Imprima concatenando."
      ]
    },
    {
      "cell_type": "code",
      "execution_count": null,
      "id": "ddb842a5",
      "metadata": {
        "id": "ddb842a5",
        "colab": {
          "base_uri": "https://localhost:8080/"
        },
        "outputId": "df983561-713f-42f2-d919-44c2f48a8764"
      },
      "outputs": [
        {
          "output_type": "stream",
          "name": "stdout",
          "text": [
            "valor do produto: R$ 500\n",
            "valor do Desconto: 5\n",
            "o valor do produto com deconto é de R$ 475.0reais\n"
          ]
        }
      ],
      "source": [
        "# RESPOSTA AQUI\n",
        "\n",
        "valor_do_produto = float ( input(\"valor do produto: R$ \"))\n",
        "\n",
        "valor_do_desconto = float (input(\"valor do Desconto: \"))\n",
        "\n",
        "valor_descontado = valor_do_produto * valor_do_desconto / 100\n",
        "\n",
        "print (f\"o valor do produto com desconto será de R$ {valor_do_produto - valor_descontado}\" + \" reais\")"
      ]
    },
    {
      "cell_type": "markdown",
      "id": "d09d1e38",
      "metadata": {
        "id": "d09d1e38"
      },
      "source": [
        "Questão 3: Você chegou na última questão da Fuvest, e se você acertar essa você entra na USP.\n",
        "A questão diz o seguinte:\n",
        "Faça as operações abaixo usando os operadores e imprima o resultado delas:\n",
        "    2 multiplicado por 3\n",
        "    2 adicionado a 65\n",
        "    5 dividido por 10\n",
        "    O resto da divisão de 4 por 3\n",
        "    Subtrair 4 de 10\n",
        "    2 elevado a 4\n",
        "    A parte inteira do resultado de 10 dividido por 3\n",
        "    A raíz quadrada de 4\n"
      ]
    },
    {
      "cell_type": "code",
      "execution_count": null,
      "id": "1ea606e8",
      "metadata": {
        "id": "1ea606e8",
        "colab": {
          "base_uri": "https://localhost:8080/"
        },
        "outputId": "f64026ad-d37a-4982-96d3-c40e8b9ead62"
      },
      "outputs": [
        {
          "output_type": "stream",
          "name": "stdout",
          "text": [
            "6\n",
            "67\n",
            "0.5\n",
            "1\n",
            "-6\n",
            "16\n",
            "3\n",
            "2.0\n"
          ]
        }
      ],
      "source": [
        "# RESPOSTA AQUI\n",
        "print (2 * 3)\n",
        "print (2 + 65)\n",
        "print (5 / 10)\n",
        "print (4 % 3)\n",
        "print (4 - 10)\n",
        "print (2 ** 4)\n",
        "print (10 // 3)\n",
        "print(4**0.5)\n",
        "\n"
      ]
    },
    {
      "cell_type": "markdown",
      "id": "2a1c24f2",
      "metadata": {
        "id": "2a1c24f2"
      },
      "source": [
        "Questão 4: Você está correndo risco de ser jubilado, então, precisa escrever uma carta para o reitor com seus dados pessoais:nome,idade,curso e ano de ingresso, para suplicar pela sua estadia na USP. Use seus dados como variáveis e os imprima:"
      ]
    },
    {
      "cell_type": "code",
      "execution_count": null,
      "id": "fdbc24fe",
      "metadata": {
        "id": "fdbc24fe"
      },
      "outputs": [],
      "source": [
        "# RESPOSTA AQUI"
      ]
    },
    {
      "cell_type": "markdown",
      "id": "8cdae94d",
      "metadata": {
        "id": "8cdae94d"
      },
      "source": [
        "Questão 5:Calcule a função abaixo:\n",
        "1. 4a^2+5b a=5 b=3\n",
        "2. 4a-(3b)/2 a=92 b=76"
      ]
    },
    {
      "cell_type": "code",
      "execution_count": null,
      "id": "89c6d2ff",
      "metadata": {
        "id": "89c6d2ff",
        "colab": {
          "base_uri": "https://localhost:8080/"
        },
        "outputId": "4f80ed9b-9148-4fb7-e4a9-37a8462f8fe7"
      },
      "outputs": [
        {
          "output_type": "stream",
          "name": "stdout",
          "text": [
            "o resultado da funçāo 1 é: 103\n",
            "o resultado da funçāo 2 é: 254.0\n"
          ]
        }
      ],
      "source": [
        "#questão 1\n",
        "# RESPOSTA AQUI\n",
        "\n",
        "a = 5\n",
        "b = 3\n",
        "resultado = 4 * 5 ** 2 + 3\n",
        "\n",
        "print (f\"o resultado da funçāo 1 é: {resultado}\")\n",
        "\n",
        "#questão 2\n",
        "# RESPOSTA AQUI\n",
        "\n",
        "a = 92\n",
        "b = 76\n",
        "\n",
        "resultado2 = 4 * 92 - (3 * 76) / 2\n",
        "\n",
        "print (f\"o resultado da funçāo 2 é: {resultado2}\")"
      ]
    },
    {
      "cell_type": "markdown",
      "id": "bfd4096f",
      "metadata": {
        "id": "bfd4096f"
      },
      "source": [
        "Questão 5: Hoje é seu dia de sorte, seu chefe falou que você e todos os outros estagiários vão ter um aumento de 7,3% nos salários. Faça um programa que mostre automaticamente o valor do salário com o aumento quando o estagiário inserir o quanto ganha atualmente."
      ]
    },
    {
      "cell_type": "code",
      "execution_count": null,
      "id": "b10e3513",
      "metadata": {
        "id": "b10e3513",
        "colab": {
          "base_uri": "https://localhost:8080/"
        },
        "outputId": "a6ed6760-475e-4967-b9ac-c939a7ac6e78"
      },
      "outputs": [
        {
          "output_type": "stream",
          "name": "stdout",
          "text": [
            "Digite o valor do seu salário atualmente: 600\n",
            "seu novo salário com aumento de 7,3% é de R$ 643.80\n"
          ]
        }
      ],
      "source": [
        "# RESPOSTA AQUI\n",
        "salario_atual = float ( input(\"Digite o valor do seu salário atualmente: \"))\n",
        "novo_salario = salario_atual * 1.073\n",
        "\n",
        "print (f\"seu novo salário com aumento de 7,3% é de R$ {novo_salario:.2f}\")\n",
        "\n"
      ]
    },
    {
      "cell_type": "markdown",
      "id": "444bf6ca",
      "metadata": {
        "id": "444bf6ca"
      },
      "source": [
        "Questão 6: Agora, você vai fazer uma calculadora, na qual o usuário insere 2 números, e você precisa imprimir, usando a função format, a soma, subtração, divisão e seu resto.(números inteiros)"
      ]
    },
    {
      "cell_type": "code",
      "execution_count": null,
      "id": "504ad475",
      "metadata": {
        "id": "504ad475",
        "colab": {
          "base_uri": "https://localhost:8080/"
        },
        "outputId": "c53aa976-509b-434f-f872-cf3fe89bf18c"
      },
      "outputs": [
        {
          "output_type": "stream",
          "name": "stdout",
          "text": [
            "Digite um número: 2\n",
            "Digite mais um número: 2\n",
            "soma: 4\n",
            "subtraçāo: 0\n",
            "divisāo: 1.0\n",
            "resto da divisāo: 0\n"
          ]
        }
      ],
      "source": [
        "# RESPOSTA AQUI\n",
        "num1 = int(input(\"Digite um número: \"))\n",
        "num2 = int(input(\"Digite mais um número: \"))\n",
        "\n",
        "soma = num1 + num2\n",
        "subtacao = num1 - num2\n",
        "divisao = num1 / num2\n",
        "resto_da_divisao = num1 % num2\n",
        "\n",
        "print (\"soma: {}\".format(soma))\n",
        "print (\"subtraçāo: {}\".format(subtacao))\n",
        "print (\"divisāo: {}\".format(divisao))\n",
        "print (\"resto da divisāo: {}\".format(resto_da_divisao))"
      ]
    },
    {
      "cell_type": "markdown",
      "id": "2c6ecac5",
      "metadata": {
        "id": "2c6ecac5"
      },
      "source": [
        "Questão 7:Você está preparando um evento para o seu instituto e precisa fazer uma ficha de cadastro. Nele a pessoa vai ter que inserir nome, altura, comida predileta,e idade(só números)."
      ]
    },
    {
      "cell_type": "code",
      "execution_count": null,
      "id": "4fade6c5",
      "metadata": {
        "id": "4fade6c5",
        "colab": {
          "base_uri": "https://localhost:8080/"
        },
        "outputId": "cf6c5c05-516b-4749-bf95-0af0eda49b9e"
      },
      "outputs": [
        {
          "output_type": "stream",
          "name": "stdout",
          "text": [
            "Digite seu nome: Karem\n",
            "Qual a sua Altura: 1.50\n",
            "Diga qual a sua comida predileta: sushi\n",
            "Qual a sua idade? 23\n",
            "Ficha de Cadastro: \n",
            "Nome: Karem\n",
            "Altura:  1.5\n",
            "Comida predileta: sushi\n",
            "Idade: 23\n"
          ]
        }
      ],
      "source": [
        "# RESPOSTA AQUI\n",
        "nome = (input(\"Digite seu nome: \"))\n",
        "altura = float (input(\"Qual a sua Altura: (em metros)\"))\n",
        "comida_pred = input((\"Diga qual a sua comida predileta: \"))\n",
        "idade = int (input(\"Qual a sua idade? \"))\n",
        "\n",
        "print (\"Ficha de Cadastro: \")\n",
        "print (f\"Nome: {nome}\")\n",
        "print (f\"Altura:  {altura}\")\n",
        "print (f\"Comida Predileta: {comida_pred}\")\n",
        "print (f\"Idade: {idade}\")"
      ]
    },
    {
      "cell_type": "markdown",
      "id": "3c38647c",
      "metadata": {
        "id": "3c38647c"
      },
      "source": [
        "Questão 8:Faça um programa que leia um número inteiro e mostre seu sucessor e seu antecessor."
      ]
    },
    {
      "cell_type": "code",
      "execution_count": null,
      "id": "c35fd4bb",
      "metadata": {
        "id": "c35fd4bb",
        "colab": {
          "base_uri": "https://localhost:8080/"
        },
        "outputId": "28807c84-74a9-40ae-fea3-12ef03d872cf"
      },
      "outputs": [
        {
          "output_type": "stream",
          "name": "stdout",
          "text": [
            "escreva um número inteiro:7\n",
            "o antecessor de 7 é 6\n",
            "o sucessor de 7 é 8\n"
          ]
        }
      ],
      "source": [
        "# RESPOSTA AQUI\n",
        "\n",
        "antecessor = 0\n",
        "sucessor = 0\n",
        "numero_inteiro = int (input( \"escreva um número inteiro:\" ))\n",
        "\n",
        "antecessor = numero_inteiro - 1\n",
        "sucessor = numero_inteiro + 1\n",
        "\n",
        "print(f\"o antecessor de {numero_inteiro} é {antecessor}\")\n",
        "print(f\"o sucessor de {numero_inteiro} é {sucessor}\")\n",
        "\n",
        "\n",
        "\n",
        "\n"
      ]
    },
    {
      "cell_type": "markdown",
      "id": "2f2cf42c",
      "metadata": {
        "id": "2f2cf42c"
      },
      "source": [
        "Questão 9: Escreva um programa que calcule a quantidade de latas de tintas\n",
        "necessárias e o custo para pintar tanques cilíndricos de combustível,\n",
        "em que são fornecidos a altura e o raio desse cilindro. Sabe-se que a\n",
        "lata de tinta custa R$50,00; cada lata contém 5 litros e cada litro de\n",
        "tinta pinta 3 m2\n",
        "Area do Cilindro = 2.pi.r.(h+r)(área lateral e as 2 bases)(considere pi=3)\n"
      ]
    },
    {
      "cell_type": "code",
      "execution_count": null,
      "id": "0fba5eed",
      "metadata": {
        "id": "0fba5eed",
        "colab": {
          "base_uri": "https://localhost:8080/"
        },
        "outputId": "604b3986-cf4c-449a-f5e9-8edd30ba8068"
      },
      "outputs": [
        {
          "output_type": "stream",
          "name": "stdout",
          "text": [
            "Qual a altura do cilindo em metros? 1.60\n",
            "Qual o raio do cilindro em metros? 1.0\n",
            "\n",
            "Área do Cilindro: 16.34 metros quadrados\n",
            "Litros necessários: 5.45 litros\n",
            "Latas necessárias: 2\n",
            "Custo total: R$ 100.00\n"
          ]
        }
      ],
      "source": [
        "# RESPOSTA AQUI\n",
        "import math\n",
        "\n",
        "custo_por_lata = 50.0\n",
        "capacidade_por_lata = 5.0\n",
        "rendimento_de_litros_por_m2 = 3.0\n",
        "\n",
        "altura_do_cilindro = float (input(\"Qual a altura do cilindo em metros? \"))\n",
        "raio_do_cilindro = float (input(\"Qual o raio do cilindro em metros? \" ))\n",
        "\n",
        "area_cilindro = 2 * math.pi * raio_do_cilindro * (altura_do_cilindro + raio_do_cilindro)\n",
        "\n",
        "litros_necessarios = area_cilindro / rendimento_de_litros_por_m2\n",
        "\n",
        "latas_necessarias = math.ceil(litros_necessarios / capacidade_por_lata)\n",
        "\n",
        "custo_total = latas_necessarias * custo_por_lata\n",
        "\n",
        "print(f\"\\nÁrea do Cilindro: {area_cilindro:.2f} metros quadrados\")\n",
        "print(f\"Litros necessários: {litros_necessarios:.2f} litros\")\n",
        "print(f\"Latas necessárias: {latas_necessarias}\")\n",
        "print(f\"Custo total: R$ {custo_total:.2f}\")\n",
        "\n"
      ]
    },
    {
      "cell_type": "markdown",
      "id": "6ce3458e",
      "metadata": {
        "id": "6ce3458e"
      },
      "source": [
        "Questão 10: Escreva um programa que peça para o usuário inserir a quantidade de dias que ele irá viajar com o carro e a quantidade de km que ele irá percorrer. Calcule o quanto ele irá pagar, sabendo que o preço por dia de aluguel é 85 reais e 0,35 centavos por km rodado."
      ]
    },
    {
      "cell_type": "code",
      "execution_count": null,
      "id": "c3adc408",
      "metadata": {
        "id": "c3adc408",
        "colab": {
          "base_uri": "https://localhost:8080/"
        },
        "outputId": "3ebf5017-3c9c-4b74-8330-4444fdd9fe11"
      },
      "outputs": [
        {
          "output_type": "stream",
          "name": "stdout",
          "text": [
            "Por quantos dias voce pretende alugar o carro? 10\n",
            "Quantos quilômetros pretende percorrer? 4000\n",
            "\n",
            "Custo total do aluguel: R$ 2250.00\n"
          ]
        }
      ],
      "source": [
        "# RESPOSTA AQUI\n",
        "aluguel = int(input(\"Por quantos dias voce pretende alugar o carro? \" ))\n",
        "\n",
        "km_percorrer = float (input(\"Quantos quilômetros pretende percorrer? \" ))\n",
        "\n",
        "\n",
        "custo_por_dia = 85.0\n",
        "custo_por_km = 0.35\n",
        "\n",
        "custo_total = (aluguel * custo_por_dia) + (km_percorrer * custo_por_km)\n",
        "\n",
        "print(f\"\\nCusto total do aluguel: R$ {custo_total:.2f}\")\n",
        "\n"
      ]
    },
    {
      "cell_type": "markdown",
      "id": "0376787d",
      "metadata": {
        "id": "0376787d"
      },
      "source": [
        "Questão 11: Escreva um programa que leia um número que exiba sua parte inteira."
      ]
    },
    {
      "cell_type": "code",
      "execution_count": null,
      "id": "d1d48d68",
      "metadata": {
        "id": "d1d48d68",
        "colab": {
          "base_uri": "https://localhost:8080/"
        },
        "outputId": "2b89a7c4-4c04-49ad-c9bd-0cb5e9fb48c7"
      },
      "outputs": [
        {
          "output_type": "stream",
          "name": "stdout",
          "text": [
            "Digite um número: 23\n",
            "A parte inteira de 23.0 é: 23\n"
          ]
        }
      ],
      "source": [
        "# RESPOSTA AQUI\n",
        "numero = float(input(\"Digite um número: \"))\n",
        "\n",
        "numero_formato_em_inteiro = int(numero)\n",
        "\n",
        "print(f\"A parte inteira de {numero} é: {numero_formato_em_inteiro}\")"
      ]
    },
    {
      "cell_type": "markdown",
      "id": "9aeddde4",
      "metadata": {
        "id": "9aeddde4"
      },
      "source": [
        "Questão 12: Encontre o tipo das seguintes variáveis, usando a função type(). Imprima o resultado com print(f.\n",
        "Amanda\n",
        "12\n",
        "12.4\n"
      ]
    },
    {
      "cell_type": "code",
      "execution_count": null,
      "id": "e2f0adfb",
      "metadata": {
        "id": "e2f0adfb",
        "colab": {
          "base_uri": "https://localhost:8080/"
        },
        "outputId": "25cd96e3-45b2-4905-ef98-adc0aebca8b2"
      },
      "outputs": [
        {
          "output_type": "stream",
          "name": "stdout",
          "text": [
            "o tipo de Amanda é o tipo <class 'str'>\n",
            "o tipo de 12 é o tipo <class 'int'>\n",
            "o tipo de 12.0 é o tipo <class 'float'>\n"
          ]
        }
      ],
      "source": [
        "# RESPOSTA AQUI\n",
        "nome = \"Amanda\"\n",
        "inteiro = 12\n",
        "flutuante = 12.0\n",
        "\n",
        "tipo_nome = type(nome)\n",
        "tipo_inteiro = type(inteiro)\n",
        "tipo_flutuante = type(flutuante)\n",
        "\n",
        "print (f\"o tipo de {nome} é o tipo {tipo_nome}\")\n",
        "print (f\"o tipo de {inteiro} é o tipo {tipo_inteiro}\")\n",
        "print (f\"o tipo de {flutuante} é o tipo {tipo_flutuante}\")"
      ]
    },
    {
      "cell_type": "markdown",
      "id": "327493cd",
      "metadata": {
        "id": "327493cd"
      },
      "source": [
        "Questão 13:Você vai fazer intercâmbio nos Eua, e quer saber se você tem que levar muitas roupas de frio.\n",
        "\n",
        "a)então precisa fazer um conversor de temperatura de fahrenheit para celsius\n"
      ]
    },
    {
      "cell_type": "code",
      "execution_count": null,
      "id": "80645449",
      "metadata": {
        "id": "80645449",
        "colab": {
          "base_uri": "https://localhost:8080/"
        },
        "outputId": "4cfb0dd1-0e22-46a4-c152-af1cfd20e062"
      },
      "outputs": [
        {
          "output_type": "stream",
          "name": "stdout",
          "text": [
            "Digite a temperatura em Fahrenheit: 45\n",
            "A temperatura em Celsius é: 7.22°C\n"
          ]
        }
      ],
      "source": [
        "# RESPOSTA\n",
        "temperatura_fahrenheit = float(input(\"Digite a temperatura em Fahrenheit: \"))\n",
        "\n",
        "temperatura_celsius = (temperatura_fahrenheit - 32) * 5/9\n",
        "\n",
        "print(f\"A temperatura em Celsius é: {temperatura_celsius:.2f}°C\")\n"
      ]
    },
    {
      "cell_type": "markdown",
      "id": "fa24c31f",
      "metadata": {
        "id": "fa24c31f"
      },
      "source": [
        "b)Agora, suponha que a temperatura convertida é um número com vírgula, arredonde ele com a função round."
      ]
    },
    {
      "cell_type": "code",
      "execution_count": null,
      "id": "b170cf6c",
      "metadata": {
        "id": "b170cf6c",
        "colab": {
          "base_uri": "https://localhost:8080/"
        },
        "outputId": "dbfe5203-1295-4bc0-9aaf-c9848e86d297"
      },
      "outputs": [
        {
          "output_type": "stream",
          "name": "stdout",
          "text": [
            "Digite a temperatura em Fahrenheit: 100\n",
            "A temperatura em Celsius é: 38°C\n"
          ]
        }
      ],
      "source": [
        "# RESPOSTA AQUI\n",
        "temperatura_fahrenheit = float(input(\"Digite a temperatura em Fahrenheit: \"))\n",
        "\n",
        "temperatura_celsius = (temperatura_fahrenheit - 32) * 5/9\n",
        "\n",
        "temperatura_celsius_arredondada = round(temperatura_celsius)\n",
        "\n",
        "print(f\"A temperatura em Celsius é: {temperatura_celsius_arredondada}°C\")"
      ]
    },
    {
      "cell_type": "markdown",
      "id": "60427fa0",
      "metadata": {
        "id": "60427fa0"
      },
      "source": [
        "Questão 14: Faça um programa que mostre se a cidade inserida começa com \"SANTO\" ou não.\n",
        "    "
      ]
    },
    {
      "cell_type": "code",
      "execution_count": null,
      "id": "1e269cd1",
      "metadata": {
        "id": "1e269cd1",
        "colab": {
          "base_uri": "https://localhost:8080/"
        },
        "outputId": "ecc25e1d-7aa5-4db0-ab4b-cf7c46e2a3ff"
      },
      "outputs": [
        {
          "output_type": "stream",
          "name": "stdout",
          "text": [
            "Digite o nome da cidade: Santo André\n",
            "A cidade Santo André começa com 'SANTO'.\n"
          ]
        }
      ],
      "source": [
        "# RESPOSTA AQUI\n",
        "cidade = input(\"Digite o nome da cidade: \")\n",
        "\n",
        "if cidade.upper().startswith(\"SANTO\"):\n",
        "    print(f\"A cidade {cidade} começa com SANTO.\")\n",
        "else:\n",
        "    print(f\"A cidade {cidade} não começa com SANTO.\")"
      ]
    },
    {
      "cell_type": "markdown",
      "id": "4fa1e207",
      "metadata": {
        "id": "4fa1e207"
      },
      "source": [
        "Questão 15:Escreva um programa que leia o nome completo de uma pessoa e mostre:\n",
        "        -O nome com todas as letras maiúsculas e minúsculas\n",
        "        -Quantas letras ao todo sem contar os espaços\n",
        "        -Quantas letras tem o primeiro nome"
      ]
    },
    {
      "cell_type": "code",
      "execution_count": null,
      "id": "e1bb43cb",
      "metadata": {
        "id": "e1bb43cb",
        "colab": {
          "base_uri": "https://localhost:8080/"
        },
        "outputId": "9fab136a-14d6-4c5a-84ed-89ecfd102d34"
      },
      "outputs": [
        {
          "output_type": "stream",
          "name": "stdout",
          "text": [
            "Digite o nome completo: Karem Leticia dos Santos\n",
            "Nome em maiúsculas: KAREM LETICIA DOS SANTOS\n",
            "Nome em minúsculas: karem leticia dos santos\n",
            "Total de letras (sem contar espaços): 21\n",
            "Quantidade de letras no primeiro nome: 5\n"
          ]
        }
      ],
      "source": [
        "# RESPOSTA AQUI\n",
        "nome_completo = input(\"Digite o nome completo: \")\n",
        "\n",
        "print(f\"Nome em maiúsculas: {nome_completo.upper()}\")\n",
        "\n",
        "print(f\"Nome em minúsculas: {nome_completo.lower()}\")\n",
        "\n",
        "total_letras = len(nome_completo.replace(\" \", \"\"))\n",
        "print(f\"Total de letras (sem contar espaços): {total_letras}\")\n",
        "\n",
        "primeiro_nome = nome_completo.split()[0]\n",
        "letras_primeiro_nome = len(primeiro_nome)\n",
        "print(f\"Quantidade de letras no primeiro nome: {letras_primeiro_nome}\")"
      ]
    },
    {
      "cell_type": "markdown",
      "id": "2094f174",
      "metadata": {
        "id": "2094f174"
      },
      "source": [
        "Questão 16: Você quer achar seus parentes da família \"Soares\". Então, faça um programa que detecte se o nome inserido é da sua família."
      ]
    },
    {
      "cell_type": "code",
      "execution_count": null,
      "id": "4618ae4a",
      "metadata": {
        "id": "4618ae4a",
        "colab": {
          "base_uri": "https://localhost:8080/"
        },
        "outputId": "b11abfba-bffa-4125-a80b-f92d89f272a2"
      },
      "outputs": [
        {
          "output_type": "stream",
          "name": "stdout",
          "text": [
            "Digite o nome completo: Karem Leticia dos Santos\n",
            "Karem Leticia dos Santos não parece ser da família Soares.\n"
          ]
        }
      ],
      "source": [
        "# RESPOSTA AQUI\n",
        "\n",
        "nome = input(\"Digite o nome completo: \")\n",
        "\n",
        "if \"Soares\" in nome:\n",
        "    print(f\"{nome} é um nome da família Soares.\")\n",
        "else:\n",
        "    print(f\"{nome} não parece ser da família Soares.\")\n"
      ]
    },
    {
      "cell_type": "markdown",
      "id": "80d66cd3",
      "metadata": {
        "id": "80d66cd3"
      },
      "source": [
        "Questão 17:Você está indo para o interusp, e está fazendo a lista dos 5 objetos mais importantes:bota,protetor-solar,camisinha,shorts e desodorante.\n",
        "a)Você se lembrou que as tattoos são mais importantes que o proteto-solar. Retire o protetor da lista e adicione as tattoos."
      ]
    },
    {
      "cell_type": "code",
      "execution_count": null,
      "id": "9781c566",
      "metadata": {
        "id": "9781c566",
        "colab": {
          "base_uri": "https://localhost:8080/"
        },
        "outputId": "6c63b728-8faa-4121-aed4-86c0192afbd8"
      },
      "outputs": [
        {
          "output_type": "stream",
          "name": "stdout",
          "text": [
            "Lista de 5 objetos mais importantes:\n",
            "bota\n",
            "tatuagens\n",
            "camisinha\n",
            "shorts\n",
            "desodorante\n"
          ]
        }
      ],
      "source": [
        "# RESPOSTA AQUI\n",
        "\n",
        "lista_objetos = [\"bota\", \"protetor solar\", \"camisinha\", \"shorts\", \"desodorante\"]\n",
        "\n",
        "lista_objetos[1] = \"tatuagens\"\n",
        "\n",
        "print(\"Lista de 5 objetos mais importantes:\")\n",
        "for objeto in lista_objetos:\n",
        "    print(objeto)\n"
      ]
    },
    {
      "cell_type": "markdown",
      "id": "d38c2ac4",
      "metadata": {
        "id": "d38c2ac4"
      },
      "source": [
        "b)Além disso, você gosta de listas organizadas por ordem alfabética, coloque-as como tal, e imprima o índice do item 'desodorante'."
      ]
    },
    {
      "cell_type": "code",
      "execution_count": null,
      "id": "b8f866f2",
      "metadata": {
        "id": "b8f866f2",
        "colab": {
          "base_uri": "https://localhost:8080/"
        },
        "outputId": "d687468e-8b6b-4cd6-abf2-7e1f63f4b645"
      },
      "outputs": [
        {
          "output_type": "stream",
          "name": "stdout",
          "text": [
            "Lista de 5 objetos mais importantes (ordenada):\n",
            "bota\n",
            "camisinha\n",
            "desodorante\n",
            "shorts\n",
            "tatuagens\n",
            "\n",
            "O índice do item 'desodorante' é: 2\n"
          ]
        }
      ],
      "source": [
        "# RESPOSTA AQUI\n",
        "lista_objetos = [\"bota\", \"tatuagens\", \"camisinha\", \"shorts\", \"desodorante\"]\n",
        "\n",
        "lista_objetos.sort()\n",
        "\n",
        "print(\"Lista de 5 objetos mais importantes (ordenada):\")\n",
        "for objeto in lista_objetos:\n",
        "    print(objeto)\n",
        "\n",
        "indice_desodorante = lista_objetos.index(\"desodorante\")\n",
        "print(f\"\\nO índice do item 'desodorante' é: {indice_desodorante}\")"
      ]
    },
    {
      "cell_type": "markdown",
      "id": "97eaf882",
      "metadata": {
        "id": "97eaf882"
      },
      "source": [
        "Questão 18:Chegou o final do semestre e você tem suas notas 7,9.5,8.0,2.0,1.0,3.0. Imprima sua nota máxima, mínima e a soma delas."
      ]
    },
    {
      "cell_type": "code",
      "execution_count": null,
      "id": "4adec086",
      "metadata": {
        "id": "4adec086",
        "colab": {
          "base_uri": "https://localhost:8080/"
        },
        "outputId": "32159ac4-68e0-4627-d351-90fc8753b224"
      },
      "outputs": [
        {
          "output_type": "stream",
          "name": "stdout",
          "text": [
            "Nota máxima: 9.5\n",
            "Nota mínima: 1.0\n",
            "Soma das notas: 30.5\n"
          ]
        }
      ],
      "source": [
        "# RESPOSTA AQUI\n",
        "notas = [7.0, 9.5, 8.0, 2.0, 1.0, 3.0]\n",
        "\n",
        "nota_maxima = max(notas)\n",
        "nota_minima = min(notas)\n",
        "soma_notas = sum(notas)\n",
        "\n",
        "print(f\"Nota máxima: {nota_maxima}\")\n",
        "print(f\"Nota mínima: {nota_minima}\")\n",
        "print(f\"Soma das notas: {soma_notas}\")"
      ]
    },
    {
      "cell_type": "markdown",
      "id": "5205ead5",
      "metadata": {
        "id": "5205ead5"
      },
      "source": [
        "Questão 19: Chegando a Copa do mundo, é importante saber as 10 melhores seleções do mundo rankeadas pela FIFA:\n",
        "'Brasil','Belgica','Argentina','França','Iglaterra','Italia','Holanda','Espanha','Portugal','Alemanha'.Sabendo disso, extraia:\n",
        "        a)Os 2 primeiros colocados\n",
        "        b)os últimos 4 colocados\n",
        "        c)Em que posição está o nosso rival 'Argentina'"
      ]
    },
    {
      "cell_type": "code",
      "execution_count": null,
      "id": "7aeed7e6",
      "metadata": {
        "id": "7aeed7e6",
        "colab": {
          "base_uri": "https://localhost:8080/"
        },
        "outputId": "c970750d-7871-44c4-d8aa-6f06a4063ac5"
      },
      "outputs": [
        {
          "output_type": "stream",
          "name": "stdout",
          "text": [
            "a) Os 2 primeiros colocados: ['Brasil', 'Belgica']\n",
            "b) Os últimos 4 colocados: ['Holanda', 'Espanha', 'Portugal', 'Alemanha']\n",
            "c) Posição da Argentina: 3\n"
          ]
        }
      ],
      "source": [
        "# RESPOSTA AQUI\n",
        "selecoes_fifa = ['Brasil', 'Belgica', 'Argentina', 'Franca', 'Inglaterra', 'Italia', 'Holanda', 'Espanha', 'Portugal', 'Alemanha']\n",
        "\n",
        "primeiros_colocados = selecoes_fifa[:2]\n",
        "\n",
        "ultimos_colocados = selecoes_fifa[-4:]\n",
        "\n",
        "posicao_argentina = selecoes_fifa.index('Argentina') + 1\n",
        "\n",
        "print(f\"a) Os 2 primeiros colocados: {primeiros_colocados}\")\n",
        "print(f\"b) Os últimos 4 colocados: {ultimos_colocados}\")\n",
        "print(f\"c) Posição da Argentina: {posicao_argentina}\")"
      ]
    },
    {
      "cell_type": "markdown",
      "id": "7990e715",
      "metadata": {
        "id": "7990e715"
      },
      "source": [
        "Questão 20:Faça um dicionário com os seguintes dados cadastrais dos alunos da Usp\n",
        "    Nome - Juliano\n",
        "    idade - 20 anos\n",
        "    Instituto - ECA\n",
        "    "
      ]
    },
    {
      "cell_type": "code",
      "execution_count": null,
      "id": "66c3bc17",
      "metadata": {
        "id": "66c3bc17",
        "colab": {
          "base_uri": "https://localhost:8080/"
        },
        "outputId": "7ff24f6c-24db-4299-c302-ec9163f74cc2"
      },
      "outputs": [
        {
          "output_type": "stream",
          "name": "stdout",
          "text": [
            "{'Nome': 'Juliano', 'Idade': 20, 'Instituto': 'ECA'}\n"
          ]
        }
      ],
      "source": [
        "# RESPOSTA AQUI\n",
        "aluno_usp = {\n",
        "    'Nome': 'Juliano',\n",
        "    'Idade': 20,\n",
        "    'Instituto': 'ECA'\n",
        "}\n",
        "\n",
        "print(aluno_usp)"
      ]
    },
    {
      "cell_type": "markdown",
      "id": "9f98d738",
      "metadata": {
        "id": "9f98d738"
      },
      "source": [
        "b) Agora você vai precisar fazer algumas alterações\n",
        "    1. Mude o nome de Juliano para Pedro\n",
        "    2.Adicione mais um campo 'Ano de ingresso - 2019'\n",
        "    3.Imprima só o ano de ingresso do aluno(só o valor)\n",
        "    4.Imprima todo o dicionário"
      ]
    },
    {
      "cell_type": "code",
      "execution_count": null,
      "id": "b33a6987",
      "metadata": {
        "id": "b33a6987",
        "colab": {
          "base_uri": "https://localhost:8080/"
        },
        "outputId": "27abb469-2211-4a61-fb4f-40317f10f3f1"
      },
      "outputs": [
        {
          "output_type": "stream",
          "name": "stdout",
          "text": [
            "Ano de ingresso: 2019\n",
            "{'Nome': 'Pedro', 'Idade': 20, 'Instituto': 'ECA', 'Ano de ingresso': 2019}\n"
          ]
        }
      ],
      "source": [
        "# RESPOSTA AQUI\n",
        "aluno_usp = {\n",
        "    'Nome': 'Juliano',\n",
        "    'Idade': 20,\n",
        "    'Instituto': 'ECA'\n",
        "}\n",
        "\n",
        "aluno_usp['Nome'] = 'Pedro'\n",
        "\n",
        "aluno_usp['Ano de ingresso'] = 2019\n",
        "\n",
        "\n",
        "ano_ingresso = aluno_usp['Ano de ingresso']\n",
        "print(f\"Ano de ingresso: {ano_ingresso}\")\n",
        "\n",
        "print(aluno_usp)"
      ]
    }
  ],
  "metadata": {
    "kernelspec": {
      "display_name": "Python 3 (ipykernel)",
      "language": "python",
      "name": "python3"
    },
    "language_info": {
      "codemirror_mode": {
        "name": "ipython",
        "version": 3
      },
      "file_extension": ".py",
      "mimetype": "text/x-python",
      "name": "python",
      "nbconvert_exporter": "python",
      "pygments_lexer": "ipython3",
      "version": "3.9.12"
    },
    "colab": {
      "provenance": [],
      "include_colab_link": true
    }
  },
  "nbformat": 4,
  "nbformat_minor": 5
}